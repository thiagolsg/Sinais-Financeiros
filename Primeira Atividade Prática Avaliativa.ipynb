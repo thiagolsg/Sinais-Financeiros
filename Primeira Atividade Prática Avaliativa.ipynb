{
 "cells": [
  {
   "cell_type": "markdown",
   "metadata": {},
   "source": [
    "<ul>\n",
    "    <li> <h2><b>Universidade de Brasília - UnB</b></h2> </li>\n",
    "    <li> <b>Campus UnB Gama</b> </li>\n",
    "    <li> <b>Disciplina: Processamento Digital de Sinais Financeiros</b> </li>\n",
    "    <a href=\"https://www.linkedin.com/in/marcelino-andrade-b164b369/\">\n",
    "    <li> <b>Prof. Marcelino Monteiro de Andrade Dr.</b> </li>\n",
    "</ul>\n",
    "\n",
    "\n",
    "    Primeira (1/5) Atividade Prática Avaliativa\n",
    "    Entrega da Atividade 01/10/2020 \n",
    "    \"A não entrega na data esperada reduz em 50% na nota da avaliação\""
   ]
  },
  {
   "cell_type": "markdown",
   "metadata": {},
   "source": [
    "\n",
    "<div id=\"Tópicos\">\n",
    "    <h2>Questões</h2>\n",
    "</div>\n",
    "\n",
    "\n",
    "<div class=\"alert alert-block alert-info\" style=\"margin-top: 20px\">\n",
    "<ol> \n",
    "<li> Colete os preços e volumes de um conjunto de ativos durante o período de 3 (três) anos, pertencentes a no mínimo 5 (cinco) Índices de Segmentos e Setoriais diferentes, e separe os 50 (cinquenta) ativos mais líquidos; </li><p></p>\n",
    "    <li>Construa uma amostra de treinamento e outra de teste, sendo a primeira com os 2 (dois) primeiros anos e a segunda com o último anos; </li> <p></p>\n",
    "    <li> Na amostra de treinamento, aplique uma clusterização não supervisionada (K-Means ou DBSCAN) e separe um ativo para cada clusters, com o critério que desejar (sugestão maior índice Sharpe); </li><p></p>\n",
    "    <li> Aplique a Teoria do Portfolio Moderno de Markowitz nos ativos escolhidos no passo anterior, no sentido de alocar um capital de R$100.000,00; </li><p></p>\n",
    "    <li> Verifique o resultado da alocação de capital com Markowitz, nos ativos separados na fase de treinamento, amostra de teste que representa o último ano da aquisição; </li><p></p>\n",
    "    <li> Descreva suas impressores relativas ao processo e resultados encontrados. </li>\n",
    "</ol>\n",
    "</div>\n"
   ]
  },
  {
   "cell_type": "markdown",
   "metadata": {},
   "source": [
    "### Questão 1: "
   ]
  },
  {
   "cell_type": "markdown",
   "metadata": {},
   "source": [
    "## Extração\n",
    "\n",
    "Os dados das ações que compõem cada índice são extraídas diretamente da B3 através do seguinte [link](http://www.b3.com.br/pt_br/market-data-e-indices/indices/acoes-por-indice/), no fim da paǵina existe uma opção para realizar o download da planilha contendo as informações apresentadas."
   ]
  },
  {
   "cell_type": "code",
   "execution_count": 27,
   "metadata": {},
   "outputs": [],
   "source": [
    "import pandas as pd\n",
    "import numpy as np"
   ]
  },
  {
   "cell_type": "code",
   "execution_count": 28,
   "metadata": {},
   "outputs": [],
   "source": [
    "stock_by_index = pd.read_html('data/AcoesIndices.SetDez.2020.xls')[0]"
   ]
  },
  {
   "cell_type": "code",
   "execution_count": 29,
   "metadata": {},
   "outputs": [
    {
     "data": {
      "text/html": [
       "<div>\n",
       "<style scoped>\n",
       "    .dataframe tbody tr th:only-of-type {\n",
       "        vertical-align: middle;\n",
       "    }\n",
       "\n",
       "    .dataframe tbody tr th {\n",
       "        vertical-align: top;\n",
       "    }\n",
       "\n",
       "    .dataframe thead tr th {\n",
       "        text-align: left;\n",
       "    }\n",
       "</style>\n",
       "<table border=\"1\" class=\"dataframe\">\n",
       "  <thead>\n",
       "    <tr>\n",
       "      <th></th>\n",
       "      <th colspan=\"21\" halign=\"left\">RELA��O DE A��ES POR �NDICE - SETEMBRO A DEZEMBRO DE 2020Atualizado em 22/09/2020</th>\n",
       "    </tr>\n",
       "    <tr>\n",
       "      <th></th>\n",
       "      <th colspan=\"21\" halign=\"left\">�ndices</th>\n",
       "    </tr>\n",
       "    <tr>\n",
       "      <th></th>\n",
       "      <th>Unnamed: 0_level_2</th>\n",
       "      <th>Unnamed: 1_level_2</th>\n",
       "      <th>BDRX</th>\n",
       "      <th>IBOV</th>\n",
       "      <th>IBRA</th>\n",
       "      <th>IBXL</th>\n",
       "      <th>IBXX</th>\n",
       "      <th>ICO2</th>\n",
       "      <th>ICON</th>\n",
       "      <th>IDIV</th>\n",
       "      <th>...</th>\n",
       "      <th>IGNM</th>\n",
       "      <th>IMAT</th>\n",
       "      <th>IMOB</th>\n",
       "      <th>INDX</th>\n",
       "      <th>ISEE</th>\n",
       "      <th>ITAG</th>\n",
       "      <th>IVBX</th>\n",
       "      <th>MLCX</th>\n",
       "      <th>SMLL</th>\n",
       "      <th>UTIL</th>\n",
       "    </tr>\n",
       "  </thead>\n",
       "  <tbody>\n",
       "    <tr>\n",
       "      <th>0</th>\n",
       "      <td>3M</td>\n",
       "      <td>DRN</td>\n",
       "      <td>MMMC34</td>\n",
       "      <td>NaN</td>\n",
       "      <td>NaN</td>\n",
       "      <td>NaN</td>\n",
       "      <td>NaN</td>\n",
       "      <td>NaN</td>\n",
       "      <td>NaN</td>\n",
       "      <td>NaN</td>\n",
       "      <td>...</td>\n",
       "      <td>NaN</td>\n",
       "      <td>NaN</td>\n",
       "      <td>NaN</td>\n",
       "      <td>NaN</td>\n",
       "      <td>NaN</td>\n",
       "      <td>NaN</td>\n",
       "      <td>NaN</td>\n",
       "      <td>NaN</td>\n",
       "      <td>NaN</td>\n",
       "      <td>NaN</td>\n",
       "    </tr>\n",
       "    <tr>\n",
       "      <th>1</th>\n",
       "      <td>ABC BRASIL</td>\n",
       "      <td>PN N2</td>\n",
       "      <td>NaN</td>\n",
       "      <td>NaN</td>\n",
       "      <td>ABCB4</td>\n",
       "      <td>NaN</td>\n",
       "      <td>NaN</td>\n",
       "      <td>NaN</td>\n",
       "      <td>NaN</td>\n",
       "      <td>ABCB4</td>\n",
       "      <td>...</td>\n",
       "      <td>NaN</td>\n",
       "      <td>NaN</td>\n",
       "      <td>NaN</td>\n",
       "      <td>NaN</td>\n",
       "      <td>NaN</td>\n",
       "      <td>ABCB4</td>\n",
       "      <td>NaN</td>\n",
       "      <td>NaN</td>\n",
       "      <td>ABCB4</td>\n",
       "      <td>NaN</td>\n",
       "    </tr>\n",
       "    <tr>\n",
       "      <th>2</th>\n",
       "      <td>ADVANCED MIC</td>\n",
       "      <td>DRN</td>\n",
       "      <td>A1MD34</td>\n",
       "      <td>NaN</td>\n",
       "      <td>NaN</td>\n",
       "      <td>NaN</td>\n",
       "      <td>NaN</td>\n",
       "      <td>NaN</td>\n",
       "      <td>NaN</td>\n",
       "      <td>NaN</td>\n",
       "      <td>...</td>\n",
       "      <td>NaN</td>\n",
       "      <td>NaN</td>\n",
       "      <td>NaN</td>\n",
       "      <td>NaN</td>\n",
       "      <td>NaN</td>\n",
       "      <td>NaN</td>\n",
       "      <td>NaN</td>\n",
       "      <td>NaN</td>\n",
       "      <td>NaN</td>\n",
       "      <td>NaN</td>\n",
       "    </tr>\n",
       "    <tr>\n",
       "      <th>3</th>\n",
       "      <td>ADVANCED-DH</td>\n",
       "      <td>ON</td>\n",
       "      <td>NaN</td>\n",
       "      <td>NaN</td>\n",
       "      <td>NaN</td>\n",
       "      <td>NaN</td>\n",
       "      <td>NaN</td>\n",
       "      <td>NaN</td>\n",
       "      <td>NaN</td>\n",
       "      <td>NaN</td>\n",
       "      <td>...</td>\n",
       "      <td>NaN</td>\n",
       "      <td>NaN</td>\n",
       "      <td>NaN</td>\n",
       "      <td>NaN</td>\n",
       "      <td>NaN</td>\n",
       "      <td>ADHM3</td>\n",
       "      <td>NaN</td>\n",
       "      <td>NaN</td>\n",
       "      <td>NaN</td>\n",
       "      <td>NaN</td>\n",
       "    </tr>\n",
       "    <tr>\n",
       "      <th>4</th>\n",
       "      <td>AES TIETE E</td>\n",
       "      <td>UNT N2</td>\n",
       "      <td>NaN</td>\n",
       "      <td>NaN</td>\n",
       "      <td>TIET11</td>\n",
       "      <td>NaN</td>\n",
       "      <td>NaN</td>\n",
       "      <td>NaN</td>\n",
       "      <td>NaN</td>\n",
       "      <td>TIET11</td>\n",
       "      <td>...</td>\n",
       "      <td>NaN</td>\n",
       "      <td>NaN</td>\n",
       "      <td>NaN</td>\n",
       "      <td>NaN</td>\n",
       "      <td>TIET11</td>\n",
       "      <td>TIET11</td>\n",
       "      <td>NaN</td>\n",
       "      <td>NaN</td>\n",
       "      <td>TIET11</td>\n",
       "      <td>TIET11</td>\n",
       "    </tr>\n",
       "  </tbody>\n",
       "</table>\n",
       "<p>5 rows × 25 columns</p>\n",
       "</div>"
      ],
      "text/plain": [
       "  RELA��O DE A��ES POR �NDICE - SETEMBRO A DEZEMBRO DE 2020Atualizado em 22/09/2020  \\\n",
       "                                                                            �ndices   \n",
       "                                                                 Unnamed: 0_level_2   \n",
       "0                                                 3M                                  \n",
       "1                                         ABC BRASIL                                  \n",
       "2                                       ADVANCED MIC                                  \n",
       "3                                        ADVANCED-DH                                  \n",
       "4                                        AES TIETE E                                  \n",
       "\n",
       "                                                                       ...  \\\n",
       "                                                                       ...   \n",
       "  Unnamed: 1_level_2    BDRX IBOV    IBRA IBXL IBXX ICO2 ICON    IDIV  ...   \n",
       "0                DRN  MMMC34  NaN     NaN  NaN  NaN  NaN  NaN     NaN  ...   \n",
       "1              PN N2     NaN  NaN   ABCB4  NaN  NaN  NaN  NaN   ABCB4  ...   \n",
       "2                DRN  A1MD34  NaN     NaN  NaN  NaN  NaN  NaN     NaN  ...   \n",
       "3                 ON     NaN  NaN     NaN  NaN  NaN  NaN  NaN     NaN  ...   \n",
       "4             UNT N2     NaN  NaN  TIET11  NaN  NaN  NaN  NaN  TIET11  ...   \n",
       "\n",
       "                                                                 \n",
       "                                                                 \n",
       "  IGNM IMAT IMOB INDX    ISEE    ITAG IVBX MLCX    SMLL    UTIL  \n",
       "0  NaN  NaN  NaN  NaN     NaN     NaN  NaN  NaN     NaN     NaN  \n",
       "1  NaN  NaN  NaN  NaN     NaN   ABCB4  NaN  NaN   ABCB4     NaN  \n",
       "2  NaN  NaN  NaN  NaN     NaN     NaN  NaN  NaN     NaN     NaN  \n",
       "3  NaN  NaN  NaN  NaN     NaN   ADHM3  NaN  NaN     NaN     NaN  \n",
       "4  NaN  NaN  NaN  NaN  TIET11  TIET11  NaN  NaN  TIET11  TIET11  \n",
       "\n",
       "[5 rows x 25 columns]"
      ]
     },
     "execution_count": 29,
     "metadata": {},
     "output_type": "execute_result"
    }
   ],
   "source": [
    "stock_by_index.head()"
   ]
  },
  {
   "cell_type": "code",
   "execution_count": 30,
   "metadata": {},
   "outputs": [],
   "source": [
    "# Fix MultiIndex on columns\n",
    "stock_by_index.columns = [col[2] for col in stock_by_index.columns]"
   ]
  },
  {
   "cell_type": "code",
   "execution_count": 31,
   "metadata": {},
   "outputs": [
    {
     "data": {
      "text/html": [
       "<div>\n",
       "<style scoped>\n",
       "    .dataframe tbody tr th:only-of-type {\n",
       "        vertical-align: middle;\n",
       "    }\n",
       "\n",
       "    .dataframe tbody tr th {\n",
       "        vertical-align: top;\n",
       "    }\n",
       "\n",
       "    .dataframe thead th {\n",
       "        text-align: right;\n",
       "    }\n",
       "</style>\n",
       "<table border=\"1\" class=\"dataframe\">\n",
       "  <thead>\n",
       "    <tr style=\"text-align: right;\">\n",
       "      <th></th>\n",
       "      <th>Unnamed: 0_level_2</th>\n",
       "      <th>Unnamed: 1_level_2</th>\n",
       "      <th>BDRX</th>\n",
       "      <th>IBOV</th>\n",
       "      <th>IBRA</th>\n",
       "      <th>IBXL</th>\n",
       "      <th>IBXX</th>\n",
       "      <th>ICO2</th>\n",
       "      <th>ICON</th>\n",
       "      <th>IDIV</th>\n",
       "      <th>...</th>\n",
       "      <th>IGNM</th>\n",
       "      <th>IMAT</th>\n",
       "      <th>IMOB</th>\n",
       "      <th>INDX</th>\n",
       "      <th>ISEE</th>\n",
       "      <th>ITAG</th>\n",
       "      <th>IVBX</th>\n",
       "      <th>MLCX</th>\n",
       "      <th>SMLL</th>\n",
       "      <th>UTIL</th>\n",
       "    </tr>\n",
       "  </thead>\n",
       "  <tbody>\n",
       "    <tr>\n",
       "      <th>0</th>\n",
       "      <td>3M</td>\n",
       "      <td>DRN</td>\n",
       "      <td>MMMC34</td>\n",
       "      <td>NaN</td>\n",
       "      <td>NaN</td>\n",
       "      <td>NaN</td>\n",
       "      <td>NaN</td>\n",
       "      <td>NaN</td>\n",
       "      <td>NaN</td>\n",
       "      <td>NaN</td>\n",
       "      <td>...</td>\n",
       "      <td>NaN</td>\n",
       "      <td>NaN</td>\n",
       "      <td>NaN</td>\n",
       "      <td>NaN</td>\n",
       "      <td>NaN</td>\n",
       "      <td>NaN</td>\n",
       "      <td>NaN</td>\n",
       "      <td>NaN</td>\n",
       "      <td>NaN</td>\n",
       "      <td>NaN</td>\n",
       "    </tr>\n",
       "    <tr>\n",
       "      <th>1</th>\n",
       "      <td>ABC BRASIL</td>\n",
       "      <td>PN N2</td>\n",
       "      <td>NaN</td>\n",
       "      <td>NaN</td>\n",
       "      <td>ABCB4</td>\n",
       "      <td>NaN</td>\n",
       "      <td>NaN</td>\n",
       "      <td>NaN</td>\n",
       "      <td>NaN</td>\n",
       "      <td>ABCB4</td>\n",
       "      <td>...</td>\n",
       "      <td>NaN</td>\n",
       "      <td>NaN</td>\n",
       "      <td>NaN</td>\n",
       "      <td>NaN</td>\n",
       "      <td>NaN</td>\n",
       "      <td>ABCB4</td>\n",
       "      <td>NaN</td>\n",
       "      <td>NaN</td>\n",
       "      <td>ABCB4</td>\n",
       "      <td>NaN</td>\n",
       "    </tr>\n",
       "    <tr>\n",
       "      <th>2</th>\n",
       "      <td>ADVANCED MIC</td>\n",
       "      <td>DRN</td>\n",
       "      <td>A1MD34</td>\n",
       "      <td>NaN</td>\n",
       "      <td>NaN</td>\n",
       "      <td>NaN</td>\n",
       "      <td>NaN</td>\n",
       "      <td>NaN</td>\n",
       "      <td>NaN</td>\n",
       "      <td>NaN</td>\n",
       "      <td>...</td>\n",
       "      <td>NaN</td>\n",
       "      <td>NaN</td>\n",
       "      <td>NaN</td>\n",
       "      <td>NaN</td>\n",
       "      <td>NaN</td>\n",
       "      <td>NaN</td>\n",
       "      <td>NaN</td>\n",
       "      <td>NaN</td>\n",
       "      <td>NaN</td>\n",
       "      <td>NaN</td>\n",
       "    </tr>\n",
       "    <tr>\n",
       "      <th>3</th>\n",
       "      <td>ADVANCED-DH</td>\n",
       "      <td>ON</td>\n",
       "      <td>NaN</td>\n",
       "      <td>NaN</td>\n",
       "      <td>NaN</td>\n",
       "      <td>NaN</td>\n",
       "      <td>NaN</td>\n",
       "      <td>NaN</td>\n",
       "      <td>NaN</td>\n",
       "      <td>NaN</td>\n",
       "      <td>...</td>\n",
       "      <td>NaN</td>\n",
       "      <td>NaN</td>\n",
       "      <td>NaN</td>\n",
       "      <td>NaN</td>\n",
       "      <td>NaN</td>\n",
       "      <td>ADHM3</td>\n",
       "      <td>NaN</td>\n",
       "      <td>NaN</td>\n",
       "      <td>NaN</td>\n",
       "      <td>NaN</td>\n",
       "    </tr>\n",
       "    <tr>\n",
       "      <th>4</th>\n",
       "      <td>AES TIETE E</td>\n",
       "      <td>UNT N2</td>\n",
       "      <td>NaN</td>\n",
       "      <td>NaN</td>\n",
       "      <td>TIET11</td>\n",
       "      <td>NaN</td>\n",
       "      <td>NaN</td>\n",
       "      <td>NaN</td>\n",
       "      <td>NaN</td>\n",
       "      <td>TIET11</td>\n",
       "      <td>...</td>\n",
       "      <td>NaN</td>\n",
       "      <td>NaN</td>\n",
       "      <td>NaN</td>\n",
       "      <td>NaN</td>\n",
       "      <td>TIET11</td>\n",
       "      <td>TIET11</td>\n",
       "      <td>NaN</td>\n",
       "      <td>NaN</td>\n",
       "      <td>TIET11</td>\n",
       "      <td>TIET11</td>\n",
       "    </tr>\n",
       "  </tbody>\n",
       "</table>\n",
       "<p>5 rows × 25 columns</p>\n",
       "</div>"
      ],
      "text/plain": [
       "  Unnamed: 0_level_2 Unnamed: 1_level_2    BDRX IBOV    IBRA IBXL IBXX ICO2  \\\n",
       "0                 3M                DRN  MMMC34  NaN     NaN  NaN  NaN  NaN   \n",
       "1         ABC BRASIL              PN N2     NaN  NaN   ABCB4  NaN  NaN  NaN   \n",
       "2       ADVANCED MIC                DRN  A1MD34  NaN     NaN  NaN  NaN  NaN   \n",
       "3        ADVANCED-DH                 ON     NaN  NaN     NaN  NaN  NaN  NaN   \n",
       "4        AES TIETE E             UNT N2     NaN  NaN  TIET11  NaN  NaN  NaN   \n",
       "\n",
       "  ICON    IDIV  ... IGNM IMAT IMOB INDX    ISEE    ITAG IVBX MLCX    SMLL  \\\n",
       "0  NaN     NaN  ...  NaN  NaN  NaN  NaN     NaN     NaN  NaN  NaN     NaN   \n",
       "1  NaN   ABCB4  ...  NaN  NaN  NaN  NaN     NaN   ABCB4  NaN  NaN   ABCB4   \n",
       "2  NaN     NaN  ...  NaN  NaN  NaN  NaN     NaN     NaN  NaN  NaN     NaN   \n",
       "3  NaN     NaN  ...  NaN  NaN  NaN  NaN     NaN   ADHM3  NaN  NaN     NaN   \n",
       "4  NaN  TIET11  ...  NaN  NaN  NaN  NaN  TIET11  TIET11  NaN  NaN  TIET11   \n",
       "\n",
       "     UTIL  \n",
       "0     NaN  \n",
       "1     NaN  \n",
       "2     NaN  \n",
       "3     NaN  \n",
       "4  TIET11  \n",
       "\n",
       "[5 rows x 25 columns]"
      ]
     },
     "execution_count": 31,
     "metadata": {},
     "output_type": "execute_result"
    }
   ],
   "source": [
    "stock_by_index.head()"
   ]
  },
  {
   "cell_type": "markdown",
   "metadata": {},
   "source": [
    "Remove as duas primeiras colunas que não são relevantes para a análise."
   ]
  },
  {
   "cell_type": "code",
   "execution_count": 32,
   "metadata": {},
   "outputs": [],
   "source": [
    "stock_by_index.drop(stock_by_index.columns[:2], axis=1, inplace=True)"
   ]
  },
  {
   "cell_type": "markdown",
   "metadata": {},
   "source": [
    "## Selecionando os índices com o maior número de ativos"
   ]
  },
  {
   "cell_type": "markdown",
   "metadata": {},
   "source": [
    "Foram selecionados os **5** primeiros índices que contém o maior número de ativos."
   ]
  },
  {
   "cell_type": "code",
   "execution_count": 58,
   "metadata": {},
   "outputs": [],
   "source": [
    "qtd_stocks_by_indexes = stock_by_index.iloc[-1].astype('int64')\n",
    "selected_indexes = qtd_stocks_by_indexes.sort_values(ascending=False).head(5).index.tolist()"
   ]
  },
  {
   "cell_type": "code",
   "execution_count": 48,
   "metadata": {},
   "outputs": [
    {
     "name": "stdout",
     "output_type": "stream",
     "text": [
      "Índices selecionados: ['IGCX', 'ITAG', 'IBRA', 'IGCT', 'IGNM']\n"
     ]
    }
   ],
   "source": [
    "print('Índices selecionados: %s' % selected_indexes)"
   ]
  },
  {
   "cell_type": "markdown",
   "metadata": {},
   "source": [
    "## Extraindo a lista de ativos que fazem parte dos índices"
   ]
  },
  {
   "cell_type": "markdown",
   "metadata": {},
   "source": [
    "A seguir é feita a seleção no dataframe original das colunas correspondentes aos índices selecionados. É necessário descartar a última linha do dataframe original, pois essa linha não carrega informações relevantes para as etapas seguintes."
   ]
  },
  {
   "cell_type": "code",
   "execution_count": 125,
   "metadata": {},
   "outputs": [],
   "source": [
    "stocks_selected_indexes = stock_by_index[:-1][selected_indexes]"
   ]
  },
  {
   "cell_type": "markdown",
   "metadata": {},
   "source": [
    "Para descartar os valores duplicados, primeiro é necessário substituir os valors `nan` por `'-'`. Em seguida aplicamos o método `numpy.unique` no dataframe resultante para ter como resultado somente as ações únicas através dos 5 índices. Por último removemos o valor `'-'`."
   ]
  },
  {
   "cell_type": "code",
   "execution_count": 131,
   "metadata": {},
   "outputs": [],
   "source": [
    "stock_list = np.unique(stocks_selected_indexes.fillna('-')).tolist()\n",
    "stock_list.remove('-')"
   ]
  },
  {
   "cell_type": "markdown",
   "metadata": {},
   "source": [
    "Como resultado temos uma lista de:"
   ]
  },
  {
   "cell_type": "code",
   "execution_count": 146,
   "metadata": {},
   "outputs": [
    {
     "name": "stdout",
     "output_type": "stream",
     "text": [
      "223 ativos únicos\n"
     ]
    }
   ],
   "source": [
    "print(\"%s ativos únicos\" % len(stock_list))"
   ]
  },
  {
   "cell_type": "markdown",
   "metadata": {},
   "source": [
    "## Baixando dados das cotações"
   ]
  },
  {
   "cell_type": "code",
   "execution_count": 185,
   "metadata": {},
   "outputs": [],
   "source": [
    "import pandas_datareader as pdr\n",
    "from tqdm import tqdm"
   ]
  },
  {
   "cell_type": "code",
   "execution_count": 186,
   "metadata": {},
   "outputs": [],
   "source": [
    "def download_yahoo_quotes(list_symbols, start_date, final_date):\n",
    "    \"\"\"\n",
    "    Realiza o download das cotações do Yahoo.\n",
    "    \n",
    "    Params:\n",
    "        list_symbols : list \n",
    "            Lista de símbolos dos ativos escolhidos;\n",
    "        start_date : str\n",
    "            Data inicial do período desejado no formato: %Y-%m-%d\n",
    "        final_date : str\n",
    "            Data final do período desejado no formato: %Y-%m-%d\n",
    "    \"\"\"\n",
    "    daily_quotes = pd.DataFrame()\n",
    "    daily_volume = pd.DataFrame()\n",
    "    symbols = []\n",
    "    for symbol in tqdm(list_symbols):\n",
    "        \n",
    "        if not symbol.endswith('.SA'):\n",
    "            symbol_sa = \"%s.SA\" % symbol\n",
    "        else:\n",
    "            symbol_sa = symbol\n",
    "            \n",
    "        try:\n",
    "            df = pdr.get_data_yahoo(symbol_sa, start_date, final_date)\n",
    "\n",
    "            close_price = df[\"Adj Close\"]\n",
    "            volume = df[\"Volume\"]\n",
    "            symbols.append(symbol)\n",
    "\n",
    "            daily_quotes = pd.concat([daily_quotes, close_price], axis=1)\n",
    "            daily_volume = pd.concat([daily_volume, volume], axis=1)\n",
    "\n",
    "            daily_quotes.columns = symbols\n",
    "            daily_volume.columns = symbols\n",
    "        except:\n",
    "            print('Erro(%s) ao realizar o download do ativo: %s' % (symbol_sa))\n",
    "            \n",
    "    return daily_quotes, daily_volume"
   ]
  },
  {
   "cell_type": "code",
   "execution_count": null,
   "metadata": {},
   "outputs": [],
   "source": [
    "start_date = '2017-09-01'\n",
    "final_date = '2020-09-01'\n",
    "\n",
    "raw_stocks_quotes, stocks_volumes = download_yahoo_quotes(stock_list, start_date, final_date)"
   ]
  },
  {
   "cell_type": "markdown",
   "metadata": {},
   "source": [
    "## Selecionando os ativos com maior liquidez"
   ]
  },
  {
   "cell_type": "markdown",
   "metadata": {},
   "source": [
    "Os 50 ativos mais líquidos serão selecionados pelos que tem a maior média de volume no período analisado."
   ]
  },
  {
   "cell_type": "code",
   "execution_count": 202,
   "metadata": {},
   "outputs": [],
   "source": [
    "qtd_stocks = 50\n",
    "high_volume_stocks_sym = stocks_volumes.mean().sort_values(ascending=False).head(qtd_stocks).index.tolist()"
   ]
  },
  {
   "cell_type": "code",
   "execution_count": 207,
   "metadata": {},
   "outputs": [],
   "source": [
    "stock_quotes = raw_stocks_quotes[high_volume_stocks_sym].copy()"
   ]
  },
  {
   "cell_type": "code",
   "execution_count": null,
   "metadata": {},
   "outputs": [],
   "source": [
    "stock_quotes.head()"
   ]
  },
  {
   "cell_type": "markdown",
   "metadata": {},
   "source": [
    "### Questão 2: "
   ]
  },
  {
   "cell_type": "code",
   "execution_count": null,
   "metadata": {},
   "outputs": [],
   "source": []
  },
  {
   "cell_type": "markdown",
   "metadata": {},
   "source": [
    "### Questão 3: "
   ]
  },
  {
   "cell_type": "code",
   "execution_count": null,
   "metadata": {},
   "outputs": [],
   "source": []
  },
  {
   "cell_type": "markdown",
   "metadata": {},
   "source": [
    "### Questão 4: "
   ]
  },
  {
   "cell_type": "code",
   "execution_count": null,
   "metadata": {},
   "outputs": [],
   "source": []
  },
  {
   "cell_type": "markdown",
   "metadata": {},
   "source": [
    "### Questão 5: "
   ]
  },
  {
   "cell_type": "code",
   "execution_count": null,
   "metadata": {},
   "outputs": [],
   "source": []
  },
  {
   "cell_type": "markdown",
   "metadata": {},
   "source": [
    "### Questão 6: "
   ]
  },
  {
   "cell_type": "code",
   "execution_count": null,
   "metadata": {},
   "outputs": [],
   "source": []
  }
 ],
 "metadata": {
  "kernelspec": {
   "display_name": "Python 3",
   "language": "python",
   "name": "python3"
  },
  "language_info": {
   "codemirror_mode": {
    "name": "ipython",
    "version": 3
   },
   "file_extension": ".py",
   "mimetype": "text/x-python",
   "name": "python",
   "nbconvert_exporter": "python",
   "pygments_lexer": "ipython3",
   "version": "3.8.2"
  }
 },
 "nbformat": 4,
 "nbformat_minor": 4
}
